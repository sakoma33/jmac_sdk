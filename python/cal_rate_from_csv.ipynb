{
 "cells": [
  {
   "cell_type": "code",
   "execution_count": 24,
   "metadata": {},
   "outputs": [],
   "source": [
    "import pandas as pd\n",
    "\n",
    "# CSVファイルを読み込む\n",
    "df = pd.read_csv('score.csv')\n",
    "\n",
    "# 持ち点の計算\n",
    "def calc_score(score):\n",
    "    if score >= 30000:\n",
    "        return score - 30000\n",
    "    else:\n",
    "        return 30000 - score\n",
    "\n",
    "# 順位点の計算\n",
    "def calc_rank(rank):\n",
    "    if rank == 1:\n",
    "        return 50\n",
    "    elif rank == 2:\n",
    "        return 10\n",
    "    elif rank == 3:\n",
    "        return -10\n",
    "    else:\n",
    "        return -30\n",
    "\n",
    "# 持ち点・順位点の計算\n",
    "def calc_points(score, rank):\n",
    "    score_points = calc_score(score) / 1000\n",
    "    rank_points = calc_rank(rank)\n",
    "    return score_points + rank_points\n",
    "\n",
    "# 名前を指定して、持ち点・順位点を表示する\n",
    "def get_points(name):\n",
    "    target = df[df[\"1st_name\"] == name]\n",
    "    if target.empty:\n",
    "        print('名前が見つかりませんでした。')\n",
    "        return\n",
    "    scores = [target.iloc[0, 1], target.iloc[0, 3], target.iloc[0, 5], target.iloc[0, 7]]\n",
    "    ranks = [i+1 for i in range(len(scores))]\n",
    "    rank_counts = {1: 0, 2: 0, 3: 0, 4: 0}\n",
    "    for rank in ranks:\n",
    "        rank_counts[rank] += 1\n",
    "    for rank, count in rank_counts.items():\n",
    "        if count > 1:\n",
    "            total_points = 0\n",
    "            for i in range(len(scores)):\n",
    "                if ranks[i] == rank:\n",
    "                    total_points += calc_points(scores[i], rank)\n",
    "            avg_points = total_points / count\n",
    "            for i in range(len(scores)):\n",
    "                if ranks[i] == rank:\n",
    "                    print(f'{target.iloc[0, i*2]}: {avg_points:.1f}p')\n",
    "        else:\n",
    "            print(f'{target.iloc[0, (rank-1)*2]}: {calc_points(scores[rank-1], rank):.1f}p')\n"
   ]
  },
  {
   "cell_type": "code",
   "execution_count": 25,
   "metadata": {},
   "outputs": [
    {
     "name": "stdout",
     "output_type": "stream",
     "text": [
      "名前が見つかりませんでした。\n"
     ]
    }
   ],
   "source": [
    "get_points('hogefuga')"
   ]
  },
  {
   "cell_type": "code",
   "execution_count": 21,
   "metadata": {},
   "outputs": [
    {
     "data": {
      "text/plain": [
       "0    35000\n",
       "1    35000\n",
       "2    35000\n",
       "Name: 1st_score, dtype: int64"
      ]
     },
     "execution_count": 21,
     "metadata": {},
     "output_type": "execute_result"
    }
   ],
   "source": [
    "df[\"1st_score\"]"
   ]
  },
  {
   "cell_type": "code",
   "execution_count": 16,
   "metadata": {},
   "outputs": [
    {
     "data": {
      "text/plain": [
       "0    hogehoge\n",
       "1    hogehoge\n",
       "2    fugahoge\n",
       "Name: 1st_name, dtype: object"
      ]
     },
     "execution_count": 16,
     "metadata": {},
     "output_type": "execute_result"
    }
   ],
   "source": [
    "df[\"1st_name\"]"
   ]
  },
  {
   "cell_type": "code",
   "execution_count": 22,
   "metadata": {},
   "outputs": [
    {
     "data": {
      "text/html": [
       "<div>\n",
       "<style scoped>\n",
       "    .dataframe tbody tr th:only-of-type {\n",
       "        vertical-align: middle;\n",
       "    }\n",
       "\n",
       "    .dataframe tbody tr th {\n",
       "        vertical-align: top;\n",
       "    }\n",
       "\n",
       "    .dataframe thead th {\n",
       "        text-align: right;\n",
       "    }\n",
       "</style>\n",
       "<table border=\"1\" class=\"dataframe\">\n",
       "  <thead>\n",
       "    <tr style=\"text-align: right;\">\n",
       "      <th></th>\n",
       "      <th>1st_name</th>\n",
       "      <th>1st_score</th>\n",
       "      <th>2nd_name</th>\n",
       "      <th>2nd_score</th>\n",
       "      <th>3rd_name</th>\n",
       "      <th>3rd_score</th>\n",
       "      <th>4th_name</th>\n",
       "      <th>4th_score</th>\n",
       "      <th>Unnamed: 8</th>\n",
       "    </tr>\n",
       "  </thead>\n",
       "  <tbody>\n",
       "    <tr>\n",
       "      <th>0</th>\n",
       "      <td>hogehoge</td>\n",
       "      <td>35000</td>\n",
       "      <td>hogefuga</td>\n",
       "      <td>30000</td>\n",
       "      <td>fugafuga</td>\n",
       "      <td>20000</td>\n",
       "      <td>fugahoge</td>\n",
       "      <td>15000</td>\n",
       "      <td>NaN</td>\n",
       "    </tr>\n",
       "    <tr>\n",
       "      <th>1</th>\n",
       "      <td>hogehoge</td>\n",
       "      <td>35000</td>\n",
       "      <td>hogefuga</td>\n",
       "      <td>30000</td>\n",
       "      <td>fugafuga</td>\n",
       "      <td>20000</td>\n",
       "      <td>fugahoge</td>\n",
       "      <td>15000</td>\n",
       "      <td>NaN</td>\n",
       "    </tr>\n",
       "    <tr>\n",
       "      <th>2</th>\n",
       "      <td>fugahoge</td>\n",
       "      <td>35000</td>\n",
       "      <td>hogefuga</td>\n",
       "      <td>30000</td>\n",
       "      <td>fugafuga</td>\n",
       "      <td>30000</td>\n",
       "      <td>hogehoge</td>\n",
       "      <td>15000</td>\n",
       "      <td>NaN</td>\n",
       "    </tr>\n",
       "  </tbody>\n",
       "</table>\n",
       "</div>"
      ],
      "text/plain": [
       "   1st_name  1st_score  2nd_name  2nd_score  3rd_name  3rd_score  4th_name  \\\n",
       "0  hogehoge      35000  hogefuga      30000  fugafuga      20000  fugahoge   \n",
       "1  hogehoge      35000  hogefuga      30000  fugafuga      20000  fugahoge   \n",
       "2  fugahoge      35000  hogefuga      30000  fugafuga      30000  hogehoge   \n",
       "\n",
       "   4th_score  Unnamed: 8  \n",
       "0      15000         NaN  \n",
       "1      15000         NaN  \n",
       "2      15000         NaN  "
      ]
     },
     "execution_count": 22,
     "metadata": {},
     "output_type": "execute_result"
    }
   ],
   "source": [
    "df"
   ]
  },
  {
   "cell_type": "code",
   "execution_count": 28,
   "metadata": {},
   "outputs": [
    {
     "data": {
      "text/plain": [
       "0     True\n",
       "1     True\n",
       "2    False\n",
       "Name: 1st_name, dtype: bool"
      ]
     },
     "execution_count": 28,
     "metadata": {},
     "output_type": "execute_result"
    }
   ],
   "source": [
    "df[\"1st_name\"] == \"hogehoge\""
   ]
  },
  {
   "cell_type": "code",
   "execution_count": 29,
   "metadata": {},
   "outputs": [
    {
     "data": {
      "text/plain": [
       "1st_name      hogehoge\n",
       "1st_score        35000\n",
       "2nd_name      hogefuga\n",
       "2nd_score        30000\n",
       "3rd_name      fugafuga\n",
       "3rd_score        20000\n",
       "4th_name      fugahoge\n",
       "4th_score        15000\n",
       "Unnamed: 8         NaN\n",
       "Name: 0, dtype: object"
      ]
     },
     "execution_count": 29,
     "metadata": {},
     "output_type": "execute_result"
    }
   ],
   "source": [
    "df.loc[0]"
   ]
  },
  {
   "cell_type": "code",
   "execution_count": 30,
   "metadata": {},
   "outputs": [
    {
     "name": "stdout",
     "output_type": "stream",
     "text": [
      "[('hogehoge', 55), ('hogefuga', 10), ('fugafuga', -30), ('fugahoge', -60)]\n",
      "[('hogehoge', 55), ('hogefuga', 10), ('fugafuga', -30), ('fugahoge', -60)]\n",
      "[('fugahoge', 55), ('hogefuga', 0), ('fugafuga', 0), ('hogehoge', -60)]\n"
     ]
    }
   ],
   "source": [
    "import pandas as pd\n",
    "import math\n",
    "\n",
    "# CSVファイルを読み込む\n",
    "df = pd.read_csv(\"score.csv\")\n",
    "\n",
    "# 各プレイヤーの持ち点を計算する\n",
    "def calc_points(score):\n",
    "    if score >= 30000:\n",
    "        return score - 30000\n",
    "    else:\n",
    "        return score - 30000 - (30000 - score)\n",
    "\n",
    "# 各プレイヤーの順位点を計算する\n",
    "def calc_rank_points(rank, tied):\n",
    "    if tied:\n",
    "        return sum([calc_rank_points(r+1, False) for r in range(rank-1, rank+tied-1)]) / (1.0 * tied)\n",
    "    else:\n",
    "        if rank == 1:\n",
    "            return 50000\n",
    "        elif rank == 2:\n",
    "            return 10000\n",
    "        elif rank == 3:\n",
    "            return -10000\n",
    "        else:\n",
    "            return -30000\n",
    "\n",
    "# 各プレイヤーのレートを計算する\n",
    "def calc_rate(score, rank_points):\n",
    "    return math.floor((calc_points(score) + rank_points) / 1000)\n",
    "\n",
    "# プレイヤーごとに処理する\n",
    "for i in range(len(df)):\n",
    "    scores = [df.iloc[i, j] for j in range(1, 8, 2)]\n",
    "    names = [df.iloc[i, j] for j in range(0, 8, 2)]\n",
    "    player_info = []\n",
    "    for score, name in zip(scores, names):\n",
    "        points = calc_points(score)\n",
    "        rank = sorted(scores, reverse=True).index(score) + 1\n",
    "        tied = scores.count(score)\n",
    "        rank_points = calc_rank_points(rank, tied)\n",
    "        rate = calc_rate(score, rank_points)\n",
    "        player_info.append((name, rate))\n",
    "    print(player_info)\n"
   ]
  },
  {
   "cell_type": "code",
   "execution_count": null,
   "metadata": {},
   "outputs": [],
   "source": []
  }
 ],
 "metadata": {
  "kernelspec": {
   "display_name": "Python 3",
   "language": "python",
   "name": "python3"
  },
  "language_info": {
   "codemirror_mode": {
    "name": "ipython",
    "version": 3
   },
   "file_extension": ".py",
   "mimetype": "text/x-python",
   "name": "python",
   "nbconvert_exporter": "python",
   "pygments_lexer": "ipython3",
   "version": "3.10.4"
  },
  "orig_nbformat": 4,
  "vscode": {
   "interpreter": {
    "hash": "90bb13e7e2d511a6d76775060870835302e3d079f12381c3af6d52cb2c6babc2"
   }
  }
 },
 "nbformat": 4,
 "nbformat_minor": 2
}
